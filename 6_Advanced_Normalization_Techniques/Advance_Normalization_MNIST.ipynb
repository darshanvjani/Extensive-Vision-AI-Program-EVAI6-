{
  "nbformat": 4,
  "nbformat_minor": 0,
  "metadata": {
    "colab": {
      "name": "Advance_Normalization_MNIST.ipynb",
      "provenance": [],
      "collapsed_sections": [],
      "authorship_tag": "ABX9TyONOVDqkIwb8Y2bbZ/OpR5N",
      "include_colab_link": true
    },
    "kernelspec": {
      "name": "python3",
      "display_name": "Python 3"
    },
    "language_info": {
      "name": "python"
    },
    "accelerator": "GPU"
  },
  "cells": [
    {
      "cell_type": "markdown",
      "metadata": {
        "id": "view-in-github",
        "colab_type": "text"
      },
      "source": [
        "<a href=\"https://colab.research.google.com/github/darshanvjani/Extensive-Vision-AI-Program-EVAI6-/blob/main/6_Advanced_Normalization_Techniques/Advance_Normalization_MNIST.ipynb\" target=\"_parent\"><img src=\"https://colab.research.google.com/assets/colab-badge.svg\" alt=\"Open In Colab\"/></a>"
      ]
    },
    {
      "cell_type": "markdown",
      "source": [
        "# Import Libraries"
      ],
      "metadata": {
        "id": "uZPq8jdbxqaR"
      }
    },
    {
      "cell_type": "code",
      "source": [
        "from __future__ import print_function\n",
        "import torch\n",
        "import torch.nn as nn\n",
        "import torch.nn.functional as F\n",
        "import torch.optim as optim\n",
        "from torchvision import datasets, transforms\n",
        "from torch.optim.lr_scheduler import OneCycleLR"
      ],
      "metadata": {
        "id": "kFQsj7cTxte-"
      },
      "execution_count": 12,
      "outputs": []
    },
    {
      "cell_type": "code",
      "source": [
        "!git clone https://github.com/Fangyh09/pytorch-receptive-field.git"
      ],
      "metadata": {
        "colab": {
          "base_uri": "https://localhost:8080/"
        },
        "id": "L5RSJyEAaEW8",
        "outputId": "b47b210f-7b1e-490b-9d41-794fa0e37d7c"
      },
      "execution_count": 13,
      "outputs": [
        {
          "output_type": "stream",
          "name": "stdout",
          "text": [
            "fatal: destination path 'pytorch-receptive-field' already exists and is not an empty directory.\n"
          ]
        }
      ]
    },
    {
      "cell_type": "code",
      "source": [
        "!pip install /content/pytorch-receptive-field/"
      ],
      "metadata": {
        "colab": {
          "base_uri": "https://localhost:8080/",
          "height": 367
        },
        "id": "bBBQqXJua_vW",
        "outputId": "75fe463c-0af2-430c-ae2c-30329f6cd924"
      },
      "execution_count": 14,
      "outputs": [
        {
          "output_type": "stream",
          "name": "stdout",
          "text": [
            "Processing ./pytorch-receptive-field\n",
            "\u001b[33m  DEPRECATION: A future pip version will change local packages to be built in-place without first copying to a temporary directory. We recommend you use --use-feature=in-tree-build to test your packages with this new behavior before it becomes the default.\n",
            "   pip 21.3 will remove support for this functionality. You can find discussion regarding this at https://github.com/pypa/pip/issues/7555.\u001b[0m\n",
            "Building wheels for collected packages: torch-receptive-field\n",
            "  Building wheel for torch-receptive-field (setup.py) ... \u001b[?25l\u001b[?25hdone\n",
            "  Created wheel for torch-receptive-field: filename=torch_receptive_field-0.0.1-py3-none-any.whl size=4054 sha256=61f8d874872708434eaa0c05913cadaefa0b14f34024ba10ce80090c8e9eaa1d\n",
            "  Stored in directory: /root/.cache/pip/wheels/2c/aa/f2/0d074c677ab099bb196fa8320adf595160920a146193d9936b\n",
            "Successfully built torch-receptive-field\n",
            "Installing collected packages: torch-receptive-field\n",
            "  Attempting uninstall: torch-receptive-field\n",
            "    Found existing installation: torch-receptive-field 0.0.1\n",
            "    Uninstalling torch-receptive-field-0.0.1:\n",
            "      Successfully uninstalled torch-receptive-field-0.0.1\n",
            "Successfully installed torch-receptive-field-0.0.1\n"
          ]
        },
        {
          "output_type": "display_data",
          "data": {
            "application/vnd.colab-display-data+json": {
              "pip_warning": {
                "packages": [
                  "torch_receptive_field"
                ]
              }
            }
          },
          "metadata": {}
        }
      ]
    },
    {
      "cell_type": "code",
      "source": [
        "from torch_receptive_field import receptive_field\n",
        "import torch.nn.functional as F\n"
      ],
      "metadata": {
        "id": "S1RaqvcAaFcn"
      },
      "execution_count": 15,
      "outputs": []
    },
    {
      "cell_type": "markdown",
      "source": [
        "# Data Transformtions"
      ],
      "metadata": {
        "id": "9TPMM20VxzCP"
      }
    },
    {
      "cell_type": "code",
      "source": [
        "from torchvision.transforms.transforms import RandomRotation,RandomAffine\n",
        "train_transforms = transforms.Compose([\n",
        "                                       transforms.ColorJitter(brightness=0.40, contrast=0.4, saturation=0.40, hue=0.1),\n",
        "                                       transforms.RandomAffine(degrees=7, shear=10, translate=(0.1, 0.1), scale=(0.8, 1.2)),\n",
        "                                       transforms.RandomRotation((-7.0, 7.0), fill=(1,)),\n",
        "                                       transforms.ToTensor(),\n",
        "                                       transforms.Normalize((0.1307,),(0.3081,))\n",
        "                      \n",
        "])\n",
        "test_transforms = transforms.Compose([\n",
        "                                      transforms.ToTensor(),\n",
        "                                      transforms.Normalize((0.1307,),(0.3081,))\n",
        "])"
      ],
      "metadata": {
        "id": "Vpi9u-5eyeOR"
      },
      "execution_count": 16,
      "outputs": []
    },
    {
      "cell_type": "markdown",
      "source": [
        "# Dataset and Creating Train/Test Split"
      ],
      "metadata": {
        "id": "Epmv2QXkx4ov"
      }
    },
    {
      "cell_type": "code",
      "source": [
        "train = datasets.MNIST('./data',train=True, download=True,transform=train_transforms)\n",
        "test = datasets.MNIST('./data',train=False, download=True,transform=test_transforms)"
      ],
      "metadata": {
        "id": "q5wz6ay7x_xI"
      },
      "execution_count": 17,
      "outputs": []
    },
    {
      "cell_type": "markdown",
      "source": [
        "# Dataloader Arguments & Test/Train Dataloaders"
      ],
      "metadata": {
        "id": "1WCX2YYVy60-"
      }
    },
    {
      "cell_type": "code",
      "source": [
        "SEED = 10\n",
        "\n",
        "# cuda? \n",
        "\n",
        "cuda = torch.cuda.is_available()\n",
        "print(\"Cuda Available?\", cuda)\n",
        "\n",
        "#for reproducability\n",
        "torch.manual_seed(SEED)\n",
        "\n",
        "if cuda:\n",
        "  torch.cuda.manual_seed(SEED)\n",
        "\n",
        "# dataloader args\n",
        "dataloader_args = dict(shuffle=True, batch_size=128, num_workers=4, pin_memory=True) if cuda else dict(shuffle=True, batch_size=128)\n",
        "\n",
        "# train dataloader\n",
        "train_loader = torch.utils.data.DataLoader(train, **dataloader_args)\n",
        "\n",
        "# test dataloader\n",
        "test_loader = torch.utils.data.DataLoader(test, **dataloader_args)"
      ],
      "metadata": {
        "colab": {
          "base_uri": "https://localhost:8080/"
        },
        "id": "j_dJfqOqy5NS",
        "outputId": "3e091385-2257-44d7-8427-4e9a89919063"
      },
      "execution_count": 18,
      "outputs": [
        {
          "output_type": "stream",
          "name": "stdout",
          "text": [
            "Cuda Available? True\n"
          ]
        },
        {
          "output_type": "stream",
          "name": "stderr",
          "text": [
            "/usr/local/lib/python3.7/dist-packages/torch/utils/data/dataloader.py:490: UserWarning: This DataLoader will create 4 worker processes in total. Our suggested max number of worker in current system is 2, which is smaller than what this DataLoader is going to create. Please be aware that excessive worker creation might get DataLoader running slow or even freeze, lower the worker number to avoid potential slowness/freeze if necessary.\n",
            "  cpuset_checked))\n"
          ]
        }
      ]
    },
    {
      "cell_type": "markdown",
      "source": [
        "# Data Statistics"
      ],
      "metadata": {
        "id": "pC3Rj_6w21Fo"
      }
    },
    {
      "cell_type": "code",
      "source": [
        "# train_data = train.train_data\n",
        "# train_data = train.transform(train_data.numpy())\n",
        "\n",
        "# print('Statistics!')\n",
        "# print(' - Numpy Shape:',train.train_data.cpu().numpy().shape)\n",
        "# print(' - Tensor Shape:',train.train_data.size())\n",
        "# print(' -  min:',torch.min(train_data))\n",
        "# print(' -  max:',torch.max(train_data))\n",
        "# print(' -  mean:',torch.mean(train_data))\n",
        "# print(' -  std:',torch.std(train_data))\n",
        "# print(' -  var:',torch.var(train_data))\n",
        "\n",
        "dataiter = iter(train_loader)\n",
        "images, labels = dataiter.next()\n",
        "\n",
        "print(images.shape)\n",
        "print(labels.shape)\n",
        "\n",
        "%matplotlib inline\n",
        "import matplotlib.pyplot as plt\n",
        "\n",
        "plt.imshow(images[0].numpy().squeeze(), cmap='gray_r')\n"
      ],
      "metadata": {
        "colab": {
          "base_uri": "https://localhost:8080/",
          "height": 372
        },
        "id": "o0w8x_Ve2z8t",
        "outputId": "f302895c-ae8a-4799-ef05-697162fb0e71"
      },
      "execution_count": 19,
      "outputs": [
        {
          "output_type": "stream",
          "name": "stderr",
          "text": [
            "/usr/local/lib/python3.7/dist-packages/torch/utils/data/dataloader.py:490: UserWarning: This DataLoader will create 4 worker processes in total. Our suggested max number of worker in current system is 2, which is smaller than what this DataLoader is going to create. Please be aware that excessive worker creation might get DataLoader running slow or even freeze, lower the worker number to avoid potential slowness/freeze if necessary.\n",
            "  cpuset_checked))\n"
          ]
        },
        {
          "output_type": "stream",
          "name": "stdout",
          "text": [
            "torch.Size([128, 1, 28, 28])\n",
            "torch.Size([128])\n"
          ]
        },
        {
          "output_type": "execute_result",
          "data": {
            "text/plain": [
              "<matplotlib.image.AxesImage at 0x7f2a90071690>"
            ]
          },
          "metadata": {},
          "execution_count": 19
        },
        {
          "output_type": "display_data",
          "data": {
            "text/plain": [
              "<Figure size 432x288 with 1 Axes>"
            ],
            "image/png": "[encoded data removed]"
          },
          "metadata": {
            "needs_background": "light"
          }
        }
      ]
    },
    {
      "cell_type": "code",
      "source": [
        "figure = plt.figure()\n",
        "num_of_images = 60\n",
        "for index in range(1, num_of_images + 1):\n",
        "    plt.subplot(6, 10, index)\n",
        "    plt.axis('off')\n",
        "    plt.imshow(images[index].numpy().squeeze(), cmap='gray_r')"
      ],
      "metadata": {
        "colab": {
          "base_uri": "https://localhost:8080/",
          "height": 246
        },
        "id": "j4QCp3kZKexd",
        "outputId": "ff31c12a-829b-4b86-b5c2-85eec02a5446"
      },
      "execution_count": 20,
      "outputs": [
        {
          "output_type": "display_data",
          "data": {
            "text/plain": [
              "<Figure size 432x288 with 60 Axes>"
            ],
            "image/png": "[encoded data removed]"
          },
          "metadata": {
            "needs_background": "light"
          }
        }
      ]
    },
    {
      "cell_type": "code",
      "source": [
        "# class Net(nn.Module):\n",
        "#     def __init__(self):\n",
        "#         super(Net, self).__init__()\n",
        "#         self.conv1block = nn.Sequential(    # 28 -> 26 | RF:3\n",
        "#             nn.Conv2d(1,10,3,padding=0,bias=False),\n",
        "#             nn.ReLU(),\n",
        "#             nn.BatchNorm2d(10),\n",
        "#             nn.Dropout2d(0.03)\n",
        "#         )\n",
        "#         self.conv2block = nn.Sequential(    # 26 -> 24 | RF:5\n",
        "#             nn.Conv2d(10,17,3,padding=0,bias=False),\n",
        "#             nn.ReLU(),\n",
        "#             nn.BatchNorm2d(17),\n",
        "#             nn.Dropout2d(0.03)\n",
        "#         )\n",
        "#         # self.conv3block = nn.Sequential(    # 24 -> 22 | RF:7\n",
        "#         #     nn.Conv2d(16,32,3,padding=0,bias=False),\n",
        "#         #     nn.ReLU(),\n",
        "#         #     nn.BatchNorm2d(32),\n",
        "#         #     nn.Dropout2d(0.07)\n",
        "#         # )\n",
        "        \n",
        "#         self.pool1 = nn.MaxPool2d(2,2)    # 24 -> 12 | RF:10\n",
        "        \n",
        "#         self.trans1block = nn.Sequential(    # 12 -> 10 | RF:12\n",
        "#             nn.Conv2d(17,10,1,padding=0,bias=False),\n",
        "#             nn.ReLU()\n",
        "#         )\n",
        "\n",
        "#         self.conv4block = nn.Sequential(    # 10 -> 8 | RF:14\n",
        "#             nn.Conv2d(10,18,3,padding=0,bias=False),\n",
        "#             nn.ReLU(),\n",
        "#             nn.BatchNorm2d(18),\n",
        "#             nn.Dropout2d(0.03)\n",
        "#         )\n",
        "#         self.conv5block = nn.Sequential(    # 8 -> 6 | RF:16\n",
        "#             nn.Conv2d(18,18,3,padding=0,bias=False),\n",
        "#             nn.ReLU(),\n",
        "#             nn.BatchNorm2d(18),\n",
        "#             nn.Dropout2d(0.03)\n",
        "#         )\n",
        "#         self.conv6block = nn.Sequential(    # 6 -> 4 | RF:18\n",
        "#             nn.Conv2d(18,18,3,padding=1,bias=False),\n",
        "#             nn.ReLU(),\n",
        "#             nn.BatchNorm2d(18),\n",
        "#             nn.Dropout2d(0.03)\n",
        "#         )\n",
        "\n",
        "#         self.outputblock = nn.Sequential(    # 4 -> 1 | RF:18\n",
        "#             nn.AvgPool2d(6),\n",
        "#             nn.Conv2d(18,20,1,padding=0,bias=False),\n",
        "#             nn.ReLU(),\n",
        "#             nn.Conv2d(20,10,1,padding=0,bias=False)\n",
        "#         )\n",
        "\n",
        "#     def forward(self, x):\n",
        "#         x = self.conv1block(x)\n",
        "#         x = self.conv2block(x)\n",
        "#         x = self.pool1(x)\n",
        "#         x = self.trans1block(x)\n",
        "#         x = self.conv4block(x)\n",
        "#         x = self.conv5block(x)\n",
        "#         x = self.conv6block(x)\n",
        "#         x = self.outputblock(x)\n",
        "\n",
        "#         x = x.view(-1, 10)\n",
        "#         return F.log_softmax(x, dim=-1)"
      ],
      "metadata": {
        "id": "C74iVSZMKkjK"
      },
      "execution_count": 21,
      "outputs": []
    },
    {
      "cell_type": "markdown",
      "source": [
        "# Model Params\n"
      ],
      "metadata": {
        "id": "xZm_-NpoPIUV"
      }
    },
    {
      "cell_type": "code",
      "source": [
        "from model import Net"
      ],
      "metadata": {
        "id": "Dg89WAb7PG2g"
      },
      "execution_count": 22,
      "outputs": []
    },
    {
      "cell_type": "code",
      "source": [
        "!pip install torchsummary\n",
        "from torchsummary import summary\n",
        "use_cuda = torch.cuda.is_available()\n",
        "device = torch.device(\"cuda\" if use_cuda else \"cpu\")\n",
        "print(device)\n",
        "model = Net('LN').to(device)\n",
        "summary(model, input_size=(1, 28, 28))"
      ],
      "metadata": {
        "colab": {
          "base_uri": "https://localhost:8080/"
        },
        "id": "OOO-8dZ4PEa_",
        "outputId": "a00fc5df-057f-49cb-cb14-1fc17ac6690b"
      },
      "execution_count": 23,
      "outputs": [
        {
          "output_type": "stream",
          "name": "stdout",
          "text": [
            "Requirement already satisfied: torchsummary in /usr/local/lib/python3.7/dist-packages (1.5.1)\n",
            "cuda\n",
            "Normalization Technique:  LN\n",
            "----------------------------------------------------------------\n",
            "        Layer (type)               Output Shape         Param #\n",
            "================================================================\n",
            "            Conv2d-1           [-1, 10, 26, 26]              90\n",
            "              ReLU-2           [-1, 10, 26, 26]               0\n",
            "         LayerNorm-3           [-1, 10, 26, 26]          13,520\n",
            "         Dropout2d-4           [-1, 10, 26, 26]               0\n",
            "            Conv2d-5           [-1, 18, 24, 24]           1,620\n",
            "              ReLU-6           [-1, 18, 24, 24]               0\n",
            "         LayerNorm-7           [-1, 18, 24, 24]          20,736\n",
            "         Dropout2d-8           [-1, 18, 24, 24]               0\n",
            "         MaxPool2d-9           [-1, 18, 12, 12]               0\n",
            "           Conv2d-10           [-1, 10, 12, 12]             180\n",
            "             ReLU-11           [-1, 10, 12, 12]               0\n",
            "           Conv2d-12           [-1, 18, 10, 10]           1,620\n",
            "             ReLU-13           [-1, 18, 10, 10]               0\n",
            "        LayerNorm-14           [-1, 18, 10, 10]           3,600\n",
            "        Dropout2d-15           [-1, 18, 10, 10]               0\n",
            "           Conv2d-16             [-1, 18, 8, 8]           2,916\n",
            "             ReLU-17             [-1, 18, 8, 8]               0\n",
            "        LayerNorm-18             [-1, 18, 8, 8]           2,304\n",
            "        Dropout2d-19             [-1, 18, 8, 8]               0\n",
            "           Conv2d-20             [-1, 18, 8, 8]           2,916\n",
            "             ReLU-21             [-1, 18, 8, 8]               0\n",
            "        LayerNorm-22             [-1, 18, 8, 8]           2,304\n",
            "        Dropout2d-23             [-1, 18, 8, 8]               0\n",
            "        AvgPool2d-24             [-1, 18, 1, 1]               0\n",
            "           Conv2d-25             [-1, 20, 1, 1]             360\n",
            "             ReLU-26             [-1, 20, 1, 1]               0\n",
            "           Conv2d-27             [-1, 10, 1, 1]             200\n",
            "================================================================\n",
            "Total params: 52,366\n",
            "Trainable params: 52,366\n",
            "Non-trainable params: 0\n",
            "----------------------------------------------------------------\n",
            "Input size (MB): 0.00\n",
            "Forward/backward pass size (MB): 0.69\n",
            "Params size (MB): 0.20\n",
            "Estimated Total Size (MB): 0.89\n",
            "----------------------------------------------------------------\n"
          ]
        }
      ]
    },
    {
      "cell_type": "code",
      "source": [
        "# receptive_field(model, input_size=(1, 28, 28))\n",
        "# receptive_field_for_unit(receptive_field_dict, \"2\", (2,2))"
      ],
      "metadata": {
        "id": "CHE7kYtsgOhW"
      },
      "execution_count": 24,
      "outputs": []
    },
    {
      "cell_type": "markdown",
      "source": [
        "# Training and Testing"
      ],
      "metadata": {
        "id": "04KSeBaIQCHt"
      }
    },
    {
      "cell_type": "code",
      "source": [
        "from tqdm import tqdm\n",
        "\n",
        "train_losses = []\n",
        "test_losses = []\n",
        "train_acc = []\n",
        "test_acc = []\n",
        "\n",
        "lambda_l1 = 0.001\n",
        "\n",
        "def train(model, device, train_loader, optimizer, epoch, L1):\n",
        "  model.train()\n",
        "  pbar = tqdm(train_loader)\n",
        "  correct = 0\n",
        "  processed = 0\n",
        "  for batch_idx, (data, target) in enumerate(pbar):\n",
        "    # get samples\n",
        "    data, target = data.to(device), target.to(device)\n",
        "\n",
        "    # Init\n",
        "    optimizer.zero_grad()\n",
        "    # In PyTorch, we need to set the gradients to zero before starting to do backpropragation because PyTorch accumulates the gradients on subsequent backward passes. \n",
        "    # Because of this, when you start your training loop, ideally you should zero out the gradients so that you do the parameter update correctly.\n",
        "\n",
        "    # Predict\n",
        "    y_pred = model(data)\n",
        "\n",
        "    # Calculate loss\n",
        "    loss = F.nll_loss(y_pred, target)\n",
        "    \n",
        "    l1 = 1 if L1 else 0\n",
        "\n",
        "    if l1:\n",
        "      for p in model.parameters():\n",
        "        l1 += p.abs().sum()\n",
        "\n",
        "    loss += lambda_l1 * l1\n",
        "\n",
        "    train_losses.append(loss)\n",
        "\n",
        "    # Backpropagation\n",
        "    loss.backward()\n",
        "    optimizer.step()\n",
        "    scheduler.step()\n",
        "\n",
        "    # Update pbar-tqdm\n",
        "    \n",
        "    pred = y_pred.argmax(dim=1, keepdim=True)  # get the index of the max log-probability\n",
        "    correct += pred.eq(target.view_as(pred)).sum().item()\n",
        "    processed += len(data)\n",
        "\n",
        "    pbar.set_description(desc= f'Loss={loss.item()} Batch_id={batch_idx} Accuracy={100*correct/processed:0.2f}')\n",
        "    train_acc.append(100*correct/processed)\n",
        "\n",
        "def test(model, device, test_loader):\n",
        "    model.eval()\n",
        "    test_loss = 0\n",
        "    correct = 0\n",
        "    with torch.no_grad():\n",
        "        for data, target in test_loader:\n",
        "            data, target = data.to(device), target.to(device)\n",
        "            output = model(data)\n",
        "            test_loss += F.nll_loss(output, target, reduction='sum').item()  # sum up batch loss\n",
        "            pred = output.argmax(dim=1, keepdim=True)  # get the index of the max log-probability\n",
        "            correct += pred.eq(target.view_as(pred)).sum().item()\n",
        "\n",
        "    test_loss /= len(test_loader.dataset)\n",
        "    test_losses.append(test_loss)\n",
        "\n",
        "    print('\\nTest set: Average loss: {:.4f}, Accuracy: {}/{} ({:.2f}%)\\n'.format(\n",
        "        test_loss, correct, len(test_loader.dataset),\n",
        "        100. * correct / len(test_loader.dataset)))\n",
        "    \n",
        "    test_acc.append(100. * correct / len(test_loader.dataset))"
      ],
      "metadata": {
        "id": "44pNQ-oDQAWP"
      },
      "execution_count": 39,
      "outputs": []
    },
    {
      "cell_type": "markdown",
      "source": [
        "# Let's Train and Test our model"
      ],
      "metadata": {
        "id": "wD5mcCr6RPAr"
      }
    },
    {
      "cell_type": "code",
      "source": [
        "Norm_tech = input(\"Enter the Normalization from the (BN,LN,GN)\")\n",
        "\n",
        "l1 = 1 if Norm_tech == 'BN' else 0\n",
        "\n",
        "model_1 = Net(Norm_tech).to(device)\n",
        "optimizer = optim.SGD(model_1.parameters(), lr=0.01, momentum=0.9)\n",
        "scheduler = OneCycleLR(optimizer, max_lr=0.013,epochs=20,steps_per_epoch=len(train_loader))\n",
        "EPOCHS = 20\n",
        "\n",
        "for epoch in range(EPOCHS):\n",
        "  print(\"EPOCH:\",epoch)\n",
        "  train(model_1, device, train_loader, optimizer, epoch, l1)\n",
        "  test(model_1, device, test_loader)\n",
        "\n"
      ],
      "metadata": {
        "colab": {
          "base_uri": "https://localhost:8080/"
        },
        "id": "93QTarzURTWv",
        "outputId": "4db0661a-ac23-436c-d539-f55b377034ec"
      },
      "execution_count": 40,
      "outputs": [
        {
          "output_type": "stream",
          "name": "stdout",
          "text": [
            "Enter the Normalization from the (BN,LN,GN)LN\n",
            "Normalization Technique:  LN\n",
            "EPOCH: 0\n"
          ]
        },
        {
          "output_type": "stream",
          "name": "stderr",
          "text": [
            "\r  0%|          | 0/469 [00:00<?, ?it/s]/usr/local/lib/python3.7/dist-packages/torch/utils/data/dataloader.py:490: UserWarning: This DataLoader will create 4 worker processes in total. Our suggested max number of worker in current system is 2, which is smaller than what this DataLoader is going to create. Please be aware that excessive worker creation might get DataLoader running slow or even freeze, lower the worker number to avoid potential slowness/freeze if necessary.\n",
            "  cpuset_checked))\n",
            "Loss=2.045774459838867 Batch_id=468 Accuracy=21.25: 100%|██████████| 469/469 [00:33<00:00, 13.97it/s]\n"
          ]
        },
        {
          "output_type": "stream",
          "name": "stdout",
          "text": [
            "\n",
            "Test set: Average loss: 1.9338, Accuracy: 3590/10000 (35.90%)\n",
            "\n",
            "EPOCH: 1\n"
          ]
        },
        {
          "output_type": "stream",
          "name": "stderr",
          "text": [
            "Loss=0.9055132269859314 Batch_id=468 Accuracy=48.53: 100%|██████████| 469/469 [00:33<00:00, 13.98it/s]\n"
          ]
        },
        {
          "output_type": "stream",
          "name": "stdout",
          "text": [
            "\n",
            "Test set: Average loss: 0.7165, Accuracy: 7261/10000 (72.61%)\n",
            "\n",
            "EPOCH: 2\n"
          ]
        },
        {
          "output_type": "stream",
          "name": "stderr",
          "text": [
            "Loss=0.44316065311431885 Batch_id=468 Accuracy=83.18: 100%|██████████| 469/469 [00:33<00:00, 13.97it/s]\n"
          ]
        },
        {
          "output_type": "stream",
          "name": "stdout",
          "text": [
            "\n",
            "Test set: Average loss: 0.1750, Accuracy: 9602/10000 (96.02%)\n",
            "\n",
            "EPOCH: 3\n"
          ]
        },
        {
          "output_type": "stream",
          "name": "stderr",
          "text": [
            "Loss=0.20232750475406647 Batch_id=468 Accuracy=92.28: 100%|██████████| 469/469 [00:33<00:00, 14.01it/s]\n"
          ]
        },
        {
          "output_type": "stream",
          "name": "stdout",
          "text": [
            "\n",
            "Test set: Average loss: 0.0881, Accuracy: 9752/10000 (97.52%)\n",
            "\n",
            "EPOCH: 4\n"
          ]
        },
        {
          "output_type": "stream",
          "name": "stderr",
          "text": [
            "Loss=0.18606364727020264 Batch_id=468 Accuracy=94.56: 100%|██████████| 469/469 [00:33<00:00, 14.07it/s]\n"
          ]
        },
        {
          "output_type": "stream",
          "name": "stdout",
          "text": [
            "\n",
            "Test set: Average loss: 0.0583, Accuracy: 9834/10000 (98.34%)\n",
            "\n",
            "EPOCH: 5\n"
          ]
        },
        {
          "output_type": "stream",
          "name": "stderr",
          "text": [
            "Loss=0.18929922580718994 Batch_id=468 Accuracy=95.61: 100%|██████████| 469/469 [00:33<00:00, 13.96it/s]\n"
          ]
        },
        {
          "output_type": "stream",
          "name": "stdout",
          "text": [
            "\n",
            "Test set: Average loss: 0.0548, Accuracy: 9845/10000 (98.45%)\n",
            "\n",
            "EPOCH: 6\n"
          ]
        },
        {
          "output_type": "stream",
          "name": "stderr",
          "text": [
            "Loss=0.07685330510139465 Batch_id=468 Accuracy=96.25: 100%|██████████| 469/469 [00:33<00:00, 13.99it/s]\n"
          ]
        },
        {
          "output_type": "stream",
          "name": "stdout",
          "text": [
            "\n",
            "Test set: Average loss: 0.0388, Accuracy: 9879/10000 (98.79%)\n",
            "\n",
            "EPOCH: 7\n"
          ]
        },
        {
          "output_type": "stream",
          "name": "stderr",
          "text": [
            "Loss=0.12691114842891693 Batch_id=468 Accuracy=96.68: 100%|██████████| 469/469 [00:33<00:00, 14.05it/s]\n"
          ]
        },
        {
          "output_type": "stream",
          "name": "stdout",
          "text": [
            "\n",
            "Test set: Average loss: 0.0345, Accuracy: 9895/10000 (98.95%)\n",
            "\n",
            "EPOCH: 8\n"
          ]
        },
        {
          "output_type": "stream",
          "name": "stderr",
          "text": [
            "Loss=0.26086366176605225 Batch_id=468 Accuracy=96.94: 100%|██████████| 469/469 [00:33<00:00, 13.95it/s]\n"
          ]
        },
        {
          "output_type": "stream",
          "name": "stdout",
          "text": [
            "\n",
            "Test set: Average loss: 0.0308, Accuracy: 9907/10000 (99.07%)\n",
            "\n",
            "EPOCH: 9\n"
          ]
        },
        {
          "output_type": "stream",
          "name": "stderr",
          "text": [
            "Loss=0.16169005632400513 Batch_id=468 Accuracy=97.10: 100%|██████████| 469/469 [00:32<00:00, 14.26it/s]\n"
          ]
        },
        {
          "output_type": "stream",
          "name": "stdout",
          "text": [
            "\n",
            "Test set: Average loss: 0.0296, Accuracy: 9908/10000 (99.08%)\n",
            "\n",
            "EPOCH: 10\n"
          ]
        },
        {
          "output_type": "stream",
          "name": "stderr",
          "text": [
            "Loss=0.057122182101011276 Batch_id=468 Accuracy=97.25: 100%|██████████| 469/469 [00:33<00:00, 14.21it/s]\n"
          ]
        },
        {
          "output_type": "stream",
          "name": "stdout",
          "text": [
            "\n",
            "Test set: Average loss: 0.0356, Accuracy: 9897/10000 (98.97%)\n",
            "\n",
            "EPOCH: 11\n"
          ]
        },
        {
          "output_type": "stream",
          "name": "stderr",
          "text": [
            "Loss=0.09578127413988113 Batch_id=468 Accuracy=97.36: 100%|██████████| 469/469 [00:33<00:00, 14.21it/s]\n"
          ]
        },
        {
          "output_type": "stream",
          "name": "stdout",
          "text": [
            "\n",
            "Test set: Average loss: 0.0255, Accuracy: 9932/10000 (99.32%)\n",
            "\n",
            "EPOCH: 12\n"
          ]
        },
        {
          "output_type": "stream",
          "name": "stderr",
          "text": [
            "Loss=0.015369489789009094 Batch_id=468 Accuracy=97.59: 100%|██████████| 469/469 [00:32<00:00, 14.23it/s]\n"
          ]
        },
        {
          "output_type": "stream",
          "name": "stdout",
          "text": [
            "\n",
            "Test set: Average loss: 0.0261, Accuracy: 9920/10000 (99.20%)\n",
            "\n",
            "EPOCH: 13\n"
          ]
        },
        {
          "output_type": "stream",
          "name": "stderr",
          "text": [
            "Loss=0.06147320196032524 Batch_id=468 Accuracy=97.61: 100%|██████████| 469/469 [00:33<00:00, 14.18it/s]\n"
          ]
        },
        {
          "output_type": "stream",
          "name": "stdout",
          "text": [
            "\n",
            "Test set: Average loss: 0.0244, Accuracy: 9929/10000 (99.29%)\n",
            "\n",
            "EPOCH: 14\n"
          ]
        },
        {
          "output_type": "stream",
          "name": "stderr",
          "text": [
            "Loss=0.029185205698013306 Batch_id=468 Accuracy=97.84: 100%|██████████| 469/469 [00:32<00:00, 14.32it/s]\n"
          ]
        },
        {
          "output_type": "stream",
          "name": "stdout",
          "text": [
            "\n",
            "Test set: Average loss: 0.0224, Accuracy: 9925/10000 (99.25%)\n",
            "\n",
            "EPOCH: 15\n"
          ]
        },
        {
          "output_type": "stream",
          "name": "stderr",
          "text": [
            "Loss=0.018164703622460365 Batch_id=468 Accuracy=97.86: 100%|██████████| 469/469 [00:33<00:00, 14.04it/s]\n"
          ]
        },
        {
          "output_type": "stream",
          "name": "stdout",
          "text": [
            "\n",
            "Test set: Average loss: 0.0212, Accuracy: 9933/10000 (99.33%)\n",
            "\n",
            "EPOCH: 16\n"
          ]
        },
        {
          "output_type": "stream",
          "name": "stderr",
          "text": [
            "Loss=0.031571198254823685 Batch_id=468 Accuracy=98.07: 100%|██████████| 469/469 [00:32<00:00, 14.41it/s]\n"
          ]
        },
        {
          "output_type": "stream",
          "name": "stdout",
          "text": [
            "\n",
            "Test set: Average loss: 0.0196, Accuracy: 9933/10000 (99.33%)\n",
            "\n",
            "EPOCH: 17\n"
          ]
        },
        {
          "output_type": "stream",
          "name": "stderr",
          "text": [
            "Loss=0.03739219903945923 Batch_id=468 Accuracy=98.03: 100%|██████████| 469/469 [00:32<00:00, 14.42it/s]\n"
          ]
        },
        {
          "output_type": "stream",
          "name": "stdout",
          "text": [
            "\n",
            "Test set: Average loss: 0.0195, Accuracy: 9938/10000 (99.38%)\n",
            "\n",
            "EPOCH: 18\n"
          ]
        },
        {
          "output_type": "stream",
          "name": "stderr",
          "text": [
            "Loss=0.041557565331459045 Batch_id=468 Accuracy=98.16: 100%|██████████| 469/469 [00:32<00:00, 14.36it/s]\n"
          ]
        },
        {
          "output_type": "stream",
          "name": "stdout",
          "text": [
            "\n",
            "Test set: Average loss: 0.0194, Accuracy: 9936/10000 (99.36%)\n",
            "\n",
            "EPOCH: 19\n"
          ]
        },
        {
          "output_type": "stream",
          "name": "stderr",
          "text": [
            "Loss=0.037988755851984024 Batch_id=468 Accuracy=98.19: 100%|██████████| 469/469 [00:32<00:00, 14.55it/s]\n"
          ]
        },
        {
          "output_type": "stream",
          "name": "stdout",
          "text": [
            "\n",
            "Test set: Average loss: 0.0190, Accuracy: 9937/10000 (99.37%)\n",
            "\n"
          ]
        }
      ]
    },
    {
      "cell_type": "code",
      "source": [
        "metrics = dict()\n",
        "metrics['LN'] = [train_losses,test_losses,train_acc,test_acc]\n",
        "train_losses = []\n",
        "test_losses = []\n",
        "train_acc = []\n",
        "test_acc = []"
      ],
      "metadata": {
        "id": "jGLiNbaqolyH"
      },
      "execution_count": 41,
      "outputs": []
    },
    {
      "cell_type": "code",
      "source": [
        "# fig, axs = plt.subplots(2,2,figsize=(15,10))\n",
        "\n",
        "# # train_losses = [x.cpu() for x in train_losses]\n",
        "# # train_losses = [x.detach().numpy() for x in train_losses]\n",
        "\n",
        "# axs[0, 0].plot(train_losses)\n",
        "# axs[0, 0].set_title(\"Training Loss\")\n",
        "# axs[1, 0].plot(train_acc)\n",
        "# axs[1, 0].set_title(\"Training Accuracy\")\n",
        "# axs[0, 1].plot(test_losses)\n",
        "# axs[0, 1].set_title(\"Test Loss\")\n",
        "# axs[1, 1].plot(test_acc)\n",
        "# axs[1, 1].set_title(\"Test Accuracy\")"
      ],
      "metadata": {
        "id": "i5miRMo1T10f"
      },
      "execution_count": 17,
      "outputs": []
    },
    {
      "cell_type": "markdown",
      "source": [
        "## Training with Group Normalization"
      ],
      "metadata": {
        "id": "Q8zLiJoMpu6H"
      }
    },
    {
      "cell_type": "code",
      "source": [
        "Norm_tech = input(\"Enter the Normalization from the (BN,LN,GN)\")\n",
        "\n",
        "l1 = 1 if Norm_tech == 'BN' else 0\n",
        "\n",
        "model_2 = Net(Norm_tech).to(device)\n",
        "optimizer = optim.SGD(model_2.parameters(), lr=0.01, momentum=0.9)\n",
        "scheduler = OneCycleLR(optimizer, max_lr=0.013,epochs=20,steps_per_epoch=len(train_loader))\n",
        "EPOCHS = 20\n",
        "\n",
        "for epoch in range(EPOCHS):\n",
        "  print(\"EPOCH:\",epoch)\n",
        "  train(model_2, device, train_loader, optimizer, epoch, l1)\n",
        "  test(model_2, device, test_loader)\n"
      ],
      "metadata": {
        "colab": {
          "base_uri": "https://localhost:8080/"
        },
        "id": "0Q4ervakpsPh",
        "outputId": "79cf1cff-32f9-4937-be76-270b44db0d48"
      },
      "execution_count": 42,
      "outputs": [
        {
          "output_type": "stream",
          "name": "stdout",
          "text": [
            "Enter the Normalization from the (BN,LN,GN)BN\n",
            "Normalization Technique:  BN\n",
            "EPOCH: 0\n"
          ]
        },
        {
          "output_type": "stream",
          "name": "stderr",
          "text": [
            "\r  0%|          | 0/469 [00:00<?, ?it/s]/usr/local/lib/python3.7/dist-packages/torch/utils/data/dataloader.py:490: UserWarning: This DataLoader will create 4 worker processes in total. Our suggested max number of worker in current system is 2, which is smaller than what this DataLoader is going to create. Please be aware that excessive worker creation might get DataLoader running slow or even freeze, lower the worker number to avoid potential slowness/freeze if necessary.\n",
            "  cpuset_checked))\n",
            "Loss=24.4135799407959 Batch_id=468 Accuracy=19.70: 100%|██████████| 469/469 [00:36<00:00, 12.98it/s]\n"
          ]
        },
        {
          "output_type": "stream",
          "name": "stdout",
          "text": [
            "\n",
            "Test set: Average loss: 1.9144, Accuracy: 2271/10000 (22.71%)\n",
            "\n",
            "EPOCH: 1\n"
          ]
        },
        {
          "output_type": "stream",
          "name": "stderr",
          "text": [
            "Loss=22.58583641052246 Batch_id=468 Accuracy=38.61: 100%|██████████| 469/469 [00:35<00:00, 13.24it/s]\n"
          ]
        },
        {
          "output_type": "stream",
          "name": "stdout",
          "text": [
            "\n",
            "Test set: Average loss: 0.7676, Accuracy: 7562/10000 (75.62%)\n",
            "\n",
            "EPOCH: 2\n"
          ]
        },
        {
          "output_type": "stream",
          "name": "stderr",
          "text": [
            "Loss=21.19170570373535 Batch_id=468 Accuracy=85.12: 100%|██████████| 469/469 [00:35<00:00, 13.38it/s]\n"
          ]
        },
        {
          "output_type": "stream",
          "name": "stdout",
          "text": [
            "\n",
            "Test set: Average loss: 0.1623, Accuracy: 9565/10000 (95.65%)\n",
            "\n",
            "EPOCH: 3\n"
          ]
        },
        {
          "output_type": "stream",
          "name": "stderr",
          "text": [
            "Loss=20.192928314208984 Batch_id=468 Accuracy=92.98: 100%|██████████| 469/469 [00:34<00:00, 13.44it/s]\n"
          ]
        },
        {
          "output_type": "stream",
          "name": "stdout",
          "text": [
            "\n",
            "Test set: Average loss: 0.0764, Accuracy: 9789/10000 (97.89%)\n",
            "\n",
            "EPOCH: 4\n"
          ]
        },
        {
          "output_type": "stream",
          "name": "stderr",
          "text": [
            "Loss=19.248531341552734 Batch_id=468 Accuracy=94.32: 100%|██████████| 469/469 [00:34<00:00, 13.50it/s]\n"
          ]
        },
        {
          "output_type": "stream",
          "name": "stdout",
          "text": [
            "\n",
            "Test set: Average loss: 0.0634, Accuracy: 9811/10000 (98.11%)\n",
            "\n",
            "EPOCH: 5\n"
          ]
        },
        {
          "output_type": "stream",
          "name": "stderr",
          "text": [
            "Loss=18.379152297973633 Batch_id=468 Accuracy=94.83: 100%|██████████| 469/469 [00:34<00:00, 13.58it/s]\n"
          ]
        },
        {
          "output_type": "stream",
          "name": "stdout",
          "text": [
            "\n",
            "Test set: Average loss: 0.0522, Accuracy: 9839/10000 (98.39%)\n",
            "\n",
            "EPOCH: 6\n"
          ]
        },
        {
          "output_type": "stream",
          "name": "stderr",
          "text": [
            "Loss=17.501331329345703 Batch_id=468 Accuracy=95.14: 100%|██████████| 469/469 [00:34<00:00, 13.49it/s]\n"
          ]
        },
        {
          "output_type": "stream",
          "name": "stdout",
          "text": [
            "\n",
            "Test set: Average loss: 0.0840, Accuracy: 9759/10000 (97.59%)\n",
            "\n",
            "EPOCH: 7\n"
          ]
        },
        {
          "output_type": "stream",
          "name": "stderr",
          "text": [
            "Loss=16.595645904541016 Batch_id=468 Accuracy=95.38: 100%|██████████| 469/469 [00:34<00:00, 13.47it/s]\n"
          ]
        },
        {
          "output_type": "stream",
          "name": "stdout",
          "text": [
            "\n",
            "Test set: Average loss: 0.0466, Accuracy: 9858/10000 (98.58%)\n",
            "\n",
            "EPOCH: 8\n"
          ]
        },
        {
          "output_type": "stream",
          "name": "stderr",
          "text": [
            "Loss=15.911734580993652 Batch_id=468 Accuracy=95.45: 100%|██████████| 469/469 [00:34<00:00, 13.46it/s]\n"
          ]
        },
        {
          "output_type": "stream",
          "name": "stdout",
          "text": [
            "\n",
            "Test set: Average loss: 0.0525, Accuracy: 9837/10000 (98.37%)\n",
            "\n",
            "EPOCH: 9\n"
          ]
        },
        {
          "output_type": "stream",
          "name": "stderr",
          "text": [
            "Loss=14.863020896911621 Batch_id=468 Accuracy=95.55: 100%|██████████| 469/469 [00:34<00:00, 13.57it/s]\n"
          ]
        },
        {
          "output_type": "stream",
          "name": "stdout",
          "text": [
            "\n",
            "Test set: Average loss: 0.0624, Accuracy: 9806/10000 (98.06%)\n",
            "\n",
            "EPOCH: 10\n"
          ]
        },
        {
          "output_type": "stream",
          "name": "stderr",
          "text": [
            "Loss=14.0792236328125 Batch_id=468 Accuracy=95.60: 100%|██████████| 469/469 [00:34<00:00, 13.49it/s]\n"
          ]
        },
        {
          "output_type": "stream",
          "name": "stdout",
          "text": [
            "\n",
            "Test set: Average loss: 0.0597, Accuracy: 9799/10000 (97.99%)\n",
            "\n",
            "EPOCH: 11\n"
          ]
        },
        {
          "output_type": "stream",
          "name": "stderr",
          "text": [
            "Loss=13.326722145080566 Batch_id=468 Accuracy=95.72: 100%|██████████| 469/469 [00:34<00:00, 13.51it/s]\n"
          ]
        },
        {
          "output_type": "stream",
          "name": "stdout",
          "text": [
            "\n",
            "Test set: Average loss: 0.0493, Accuracy: 9850/10000 (98.50%)\n",
            "\n",
            "EPOCH: 12\n"
          ]
        },
        {
          "output_type": "stream",
          "name": "stderr",
          "text": [
            "Loss=12.666662216186523 Batch_id=468 Accuracy=96.04: 100%|██████████| 469/469 [00:34<00:00, 13.64it/s]\n"
          ]
        },
        {
          "output_type": "stream",
          "name": "stdout",
          "text": [
            "\n",
            "Test set: Average loss: 0.0428, Accuracy: 9868/10000 (98.68%)\n",
            "\n",
            "EPOCH: 13\n"
          ]
        },
        {
          "output_type": "stream",
          "name": "stderr",
          "text": [
            "Loss=12.023005485534668 Batch_id=468 Accuracy=96.03: 100%|██████████| 469/469 [00:34<00:00, 13.63it/s]\n"
          ]
        },
        {
          "output_type": "stream",
          "name": "stdout",
          "text": [
            "\n",
            "Test set: Average loss: 0.0464, Accuracy: 9865/10000 (98.65%)\n",
            "\n",
            "EPOCH: 14\n"
          ]
        },
        {
          "output_type": "stream",
          "name": "stderr",
          "text": [
            "Loss=11.476341247558594 Batch_id=468 Accuracy=96.21: 100%|██████████| 469/469 [00:34<00:00, 13.69it/s]\n"
          ]
        },
        {
          "output_type": "stream",
          "name": "stdout",
          "text": [
            "\n",
            "Test set: Average loss: 0.0395, Accuracy: 9878/10000 (98.78%)\n",
            "\n",
            "EPOCH: 15\n"
          ]
        },
        {
          "output_type": "stream",
          "name": "stderr",
          "text": [
            "Loss=11.059374809265137 Batch_id=468 Accuracy=96.52: 100%|██████████| 469/469 [00:34<00:00, 13.67it/s]\n"
          ]
        },
        {
          "output_type": "stream",
          "name": "stdout",
          "text": [
            "\n",
            "Test set: Average loss: 0.0453, Accuracy: 9868/10000 (98.68%)\n",
            "\n",
            "EPOCH: 16\n"
          ]
        },
        {
          "output_type": "stream",
          "name": "stderr",
          "text": [
            "Loss=10.783302307128906 Batch_id=468 Accuracy=96.64: 100%|██████████| 469/469 [00:34<00:00, 13.64it/s]\n"
          ]
        },
        {
          "output_type": "stream",
          "name": "stdout",
          "text": [
            "\n",
            "Test set: Average loss: 0.0321, Accuracy: 9896/10000 (98.96%)\n",
            "\n",
            "EPOCH: 17\n"
          ]
        },
        {
          "output_type": "stream",
          "name": "stderr",
          "text": [
            "Loss=10.551314353942871 Batch_id=468 Accuracy=97.18: 100%|██████████| 469/469 [00:34<00:00, 13.58it/s]\n"
          ]
        },
        {
          "output_type": "stream",
          "name": "stdout",
          "text": [
            "\n",
            "Test set: Average loss: 0.0288, Accuracy: 9904/10000 (99.04%)\n",
            "\n",
            "EPOCH: 18\n"
          ]
        },
        {
          "output_type": "stream",
          "name": "stderr",
          "text": [
            "Loss=10.542261123657227 Batch_id=468 Accuracy=97.48: 100%|██████████| 469/469 [00:34<00:00, 13.63it/s]\n"
          ]
        },
        {
          "output_type": "stream",
          "name": "stdout",
          "text": [
            "\n",
            "Test set: Average loss: 0.0220, Accuracy: 9924/10000 (99.24%)\n",
            "\n",
            "EPOCH: 19\n"
          ]
        },
        {
          "output_type": "stream",
          "name": "stderr",
          "text": [
            "Loss=10.428685188293457 Batch_id=468 Accuracy=97.79: 100%|██████████| 469/469 [00:34<00:00, 13.48it/s]\n"
          ]
        },
        {
          "output_type": "stream",
          "name": "stdout",
          "text": [
            "\n",
            "Test set: Average loss: 0.0203, Accuracy: 9934/10000 (99.34%)\n",
            "\n"
          ]
        }
      ]
    },
    {
      "cell_type": "code",
      "source": [
        "len(metrics)"
      ],
      "metadata": {
        "colab": {
          "base_uri": "https://localhost:8080/"
        },
        "id": "uG_41nZ547of",
        "outputId": "6c0e9599-941a-4e31-c463-a35d9cac13ef"
      },
      "execution_count": 43,
      "outputs": [
        {
          "output_type": "execute_result",
          "data": {
            "text/plain": [
              "1"
            ]
          },
          "metadata": {},
          "execution_count": 43
        }
      ]
    },
    {
      "cell_type": "code",
      "source": [
        "# metrics = dict()\n",
        "metrics['BN+L1'] = [train_losses,test_losses,train_acc,test_acc]\n",
        "\n",
        "train_losses = []\n",
        "test_losses = []\n",
        "train_acc = []\n",
        "test_acc = []"
      ],
      "metadata": {
        "id": "zJaA7avCp9vV"
      },
      "execution_count": 44,
      "outputs": []
    },
    {
      "cell_type": "code",
      "source": [
        "Norm_tech = input(\"Enter the Normalization from the (BN,LN,GN)\")\n",
        "\n",
        "l1 = 1 if Norm_tech == 'BN' else 0\n",
        "\n",
        "model_3 = Net(Norm_tech).to(device)\n",
        "optimizer = optim.SGD(model_3.parameters(), lr=0.01, momentum=0.9)\n",
        "scheduler = OneCycleLR(optimizer, max_lr=0.013,epochs=20,steps_per_epoch=len(train_loader))\n",
        "EPOCHS = 20\n",
        "\n",
        "for epoch in range(EPOCHS):\n",
        "  print(\"EPOCH:\",epoch)\n",
        "  train(model_3, device, train_loader, optimizer, epoch, l1)\n",
        "  test(model_3, device, test_loader)\n"
      ],
      "metadata": {
        "colab": {
          "base_uri": "https://localhost:8080/"
        },
        "id": "lQvo7yojqYWm",
        "outputId": "2cadd4a1-6312-4f7d-c8e2-17f1a2f6ab25"
      },
      "execution_count": 45,
      "outputs": [
        {
          "output_type": "stream",
          "name": "stdout",
          "text": [
            "Enter the Normalization from the (BN,LN,GN)GN\n",
            "Normalization Technique:  GN\n",
            "EPOCH: 0\n"
          ]
        },
        {
          "output_type": "stream",
          "name": "stderr",
          "text": [
            "\r  0%|          | 0/469 [00:00<?, ?it/s]/usr/local/lib/python3.7/dist-packages/torch/utils/data/dataloader.py:490: UserWarning: This DataLoader will create 4 worker processes in total. Our suggested max number of worker in current system is 2, which is smaller than what this DataLoader is going to create. Please be aware that excessive worker creation might get DataLoader running slow or even freeze, lower the worker number to avoid potential slowness/freeze if necessary.\n",
            "  cpuset_checked))\n",
            "Loss=2.212893009185791 Batch_id=468 Accuracy=17.01: 100%|██████████| 469/469 [00:32<00:00, 14.30it/s]\n"
          ]
        },
        {
          "output_type": "stream",
          "name": "stdout",
          "text": [
            "\n",
            "Test set: Average loss: 2.1524, Accuracy: 3375/10000 (33.75%)\n",
            "\n",
            "EPOCH: 1\n"
          ]
        },
        {
          "output_type": "stream",
          "name": "stderr",
          "text": [
            "Loss=1.0755696296691895 Batch_id=468 Accuracy=40.49: 100%|██████████| 469/469 [00:34<00:00, 13.74it/s]\n"
          ]
        },
        {
          "output_type": "stream",
          "name": "stdout",
          "text": [
            "\n",
            "Test set: Average loss: 0.9599, Accuracy: 7452/10000 (74.52%)\n",
            "\n",
            "EPOCH: 2\n"
          ]
        },
        {
          "output_type": "stream",
          "name": "stderr",
          "text": [
            "Loss=0.35317495465278625 Batch_id=468 Accuracy=80.94: 100%|██████████| 469/469 [00:33<00:00, 14.16it/s]\n"
          ]
        },
        {
          "output_type": "stream",
          "name": "stdout",
          "text": [
            "\n",
            "Test set: Average loss: 0.1455, Accuracy: 9691/10000 (96.91%)\n",
            "\n",
            "EPOCH: 3\n"
          ]
        },
        {
          "output_type": "stream",
          "name": "stderr",
          "text": [
            "Loss=0.243141770362854 Batch_id=468 Accuracy=92.83: 100%|██████████| 469/469 [00:32<00:00, 14.33it/s]\n"
          ]
        },
        {
          "output_type": "stream",
          "name": "stdout",
          "text": [
            "\n",
            "Test set: Average loss: 0.0817, Accuracy: 9766/10000 (97.66%)\n",
            "\n",
            "EPOCH: 4\n"
          ]
        },
        {
          "output_type": "stream",
          "name": "stderr",
          "text": [
            "Loss=0.11048924177885056 Batch_id=468 Accuracy=94.81: 100%|██████████| 469/469 [00:32<00:00, 14.29it/s]\n"
          ]
        },
        {
          "output_type": "stream",
          "name": "stdout",
          "text": [
            "\n",
            "Test set: Average loss: 0.0523, Accuracy: 9852/10000 (98.52%)\n",
            "\n",
            "EPOCH: 5\n"
          ]
        },
        {
          "output_type": "stream",
          "name": "stderr",
          "text": [
            "Loss=0.14982572197914124 Batch_id=468 Accuracy=95.77: 100%|██████████| 469/469 [00:32<00:00, 14.46it/s]\n"
          ]
        },
        {
          "output_type": "stream",
          "name": "stdout",
          "text": [
            "\n",
            "Test set: Average loss: 0.0559, Accuracy: 9824/10000 (98.24%)\n",
            "\n",
            "EPOCH: 6\n"
          ]
        },
        {
          "output_type": "stream",
          "name": "stderr",
          "text": [
            "Loss=0.21543967723846436 Batch_id=468 Accuracy=96.39: 100%|██████████| 469/469 [00:33<00:00, 14.07it/s]\n"
          ]
        },
        {
          "output_type": "stream",
          "name": "stdout",
          "text": [
            "\n",
            "Test set: Average loss: 0.0360, Accuracy: 9886/10000 (98.86%)\n",
            "\n",
            "EPOCH: 7\n"
          ]
        },
        {
          "output_type": "stream",
          "name": "stderr",
          "text": [
            "Loss=0.09981019049882889 Batch_id=468 Accuracy=96.72: 100%|██████████| 469/469 [00:32<00:00, 14.39it/s]\n"
          ]
        },
        {
          "output_type": "stream",
          "name": "stdout",
          "text": [
            "\n",
            "Test set: Average loss: 0.0367, Accuracy: 9877/10000 (98.77%)\n",
            "\n",
            "EPOCH: 8\n"
          ]
        },
        {
          "output_type": "stream",
          "name": "stderr",
          "text": [
            "Loss=0.10166598111391068 Batch_id=468 Accuracy=97.02: 100%|██████████| 469/469 [00:32<00:00, 14.42it/s]\n"
          ]
        },
        {
          "output_type": "stream",
          "name": "stdout",
          "text": [
            "\n",
            "Test set: Average loss: 0.0282, Accuracy: 9908/10000 (99.08%)\n",
            "\n",
            "EPOCH: 9\n"
          ]
        },
        {
          "output_type": "stream",
          "name": "stderr",
          "text": [
            "Loss=0.21973474323749542 Batch_id=468 Accuracy=97.14: 100%|██████████| 469/469 [00:32<00:00, 14.23it/s]\n"
          ]
        },
        {
          "output_type": "stream",
          "name": "stdout",
          "text": [
            "\n",
            "Test set: Average loss: 0.0249, Accuracy: 9923/10000 (99.23%)\n",
            "\n",
            "EPOCH: 10\n"
          ]
        },
        {
          "output_type": "stream",
          "name": "stderr",
          "text": [
            "Loss=0.21291281282901764 Batch_id=468 Accuracy=97.35: 100%|██████████| 469/469 [00:32<00:00, 14.26it/s]\n"
          ]
        },
        {
          "output_type": "stream",
          "name": "stdout",
          "text": [
            "\n",
            "Test set: Average loss: 0.0269, Accuracy: 9909/10000 (99.09%)\n",
            "\n",
            "EPOCH: 11\n"
          ]
        },
        {
          "output_type": "stream",
          "name": "stderr",
          "text": [
            "Loss=0.13449016213417053 Batch_id=468 Accuracy=97.58: 100%|██████████| 469/469 [00:33<00:00, 14.10it/s]\n"
          ]
        },
        {
          "output_type": "stream",
          "name": "stdout",
          "text": [
            "\n",
            "Test set: Average loss: 0.0237, Accuracy: 9922/10000 (99.22%)\n",
            "\n",
            "EPOCH: 12\n"
          ]
        },
        {
          "output_type": "stream",
          "name": "stderr",
          "text": [
            "Loss=0.12323454022407532 Batch_id=468 Accuracy=97.72: 100%|██████████| 469/469 [00:32<00:00, 14.22it/s]\n"
          ]
        },
        {
          "output_type": "stream",
          "name": "stdout",
          "text": [
            "\n",
            "Test set: Average loss: 0.0249, Accuracy: 9918/10000 (99.18%)\n",
            "\n",
            "EPOCH: 13\n"
          ]
        },
        {
          "output_type": "stream",
          "name": "stderr",
          "text": [
            "Loss=0.09281808137893677 Batch_id=468 Accuracy=97.70: 100%|██████████| 469/469 [00:33<00:00, 14.20it/s]\n"
          ]
        },
        {
          "output_type": "stream",
          "name": "stdout",
          "text": [
            "\n",
            "Test set: Average loss: 0.0281, Accuracy: 9905/10000 (99.05%)\n",
            "\n",
            "EPOCH: 14\n"
          ]
        },
        {
          "output_type": "stream",
          "name": "stderr",
          "text": [
            "Loss=0.0754341334104538 Batch_id=468 Accuracy=97.99: 100%|██████████| 469/469 [00:33<00:00, 14.18it/s]\n"
          ]
        },
        {
          "output_type": "stream",
          "name": "stdout",
          "text": [
            "\n",
            "Test set: Average loss: 0.0219, Accuracy: 9927/10000 (99.27%)\n",
            "\n",
            "EPOCH: 15\n"
          ]
        },
        {
          "output_type": "stream",
          "name": "stderr",
          "text": [
            "Loss=0.13433721661567688 Batch_id=468 Accuracy=98.05: 100%|██████████| 469/469 [00:32<00:00, 14.27it/s]\n"
          ]
        },
        {
          "output_type": "stream",
          "name": "stdout",
          "text": [
            "\n",
            "Test set: Average loss: 0.0192, Accuracy: 9933/10000 (99.33%)\n",
            "\n",
            "EPOCH: 16\n"
          ]
        },
        {
          "output_type": "stream",
          "name": "stderr",
          "text": [
            "Loss=0.027078479528427124 Batch_id=468 Accuracy=98.04: 100%|██████████| 469/469 [00:32<00:00, 14.26it/s]\n"
          ]
        },
        {
          "output_type": "stream",
          "name": "stdout",
          "text": [
            "\n",
            "Test set: Average loss: 0.0206, Accuracy: 9929/10000 (99.29%)\n",
            "\n",
            "EPOCH: 17\n"
          ]
        },
        {
          "output_type": "stream",
          "name": "stderr",
          "text": [
            "Loss=0.03316798433661461 Batch_id=468 Accuracy=98.14: 100%|██████████| 469/469 [00:32<00:00, 14.41it/s]\n"
          ]
        },
        {
          "output_type": "stream",
          "name": "stdout",
          "text": [
            "\n",
            "Test set: Average loss: 0.0201, Accuracy: 9933/10000 (99.33%)\n",
            "\n",
            "EPOCH: 18\n"
          ]
        },
        {
          "output_type": "stream",
          "name": "stderr",
          "text": [
            "Loss=0.015543371438980103 Batch_id=468 Accuracy=98.28: 100%|██████████| 469/469 [00:33<00:00, 14.06it/s]\n"
          ]
        },
        {
          "output_type": "stream",
          "name": "stdout",
          "text": [
            "\n",
            "Test set: Average loss: 0.0186, Accuracy: 9940/10000 (99.40%)\n",
            "\n",
            "EPOCH: 19\n"
          ]
        },
        {
          "output_type": "stream",
          "name": "stderr",
          "text": [
            "Loss=0.03952938690781593 Batch_id=468 Accuracy=98.23: 100%|██████████| 469/469 [00:32<00:00, 14.42it/s]\n"
          ]
        },
        {
          "output_type": "stream",
          "name": "stdout",
          "text": [
            "\n",
            "Test set: Average loss: 0.0184, Accuracy: 9939/10000 (99.39%)\n",
            "\n"
          ]
        }
      ]
    },
    {
      "cell_type": "code",
      "source": [
        "# metrics = dict()\n",
        "metrics['GN'] = [train_losses,test_losses,train_acc,test_acc]"
      ],
      "metadata": {
        "id": "lkLNxikdpd88"
      },
      "execution_count": 46,
      "outputs": []
    },
    {
      "cell_type": "code",
      "source": [
        "fig, axs = plt.subplots(2,2,figsize=(15,10))\n",
        "for x in ['LN','BN+L1','GN']:\n",
        "  l = metrics[x]\n",
        "  train_losses = [x.cpu() for x in l[0]]\n",
        "  train_losses = [x.detach().numpy() for x in train_losses]\n",
        "\n",
        "  axs[0, 0].plot(train_losses)\n",
        "  axs[0, 0].set_title(\"Training Loss\")\n",
        "  axs[1, 0].plot(l[2])\n",
        "  axs[1, 0].set_title(\"Training Accuracy\")\n",
        "  axs[0, 1].plot(l[1])\n",
        "  axs[0, 1].set_title(\"Test Loss\")\n",
        "  axs[1, 1].plot(l[3])\n",
        "  axs[1, 1].set_title(\"Test Accuracy\")\n",
        "# axs[0, 0].plot([1, 2, 3], label='Inline label')\n",
        "axs[0, 0].legend(['LN','BN+L1','GN'])\n",
        "axs[1, 0].legend(['LN','BN+L1','GN'])\n",
        "axs[0, 1].legend(['LN','BN+L1','GN'])\n",
        "axs[1, 1].legend(['LN','BN+L1','GN'])"
      ],
      "metadata": {
        "colab": {
          "base_uri": "https://localhost:8080/",
          "height": 624
        },
        "id": "oAuAZaDTpl34",
        "outputId": "354f18a1-331b-4e9f-8ad6-0ef54b72d170"
      },
      "execution_count": 47,
      "outputs": [
        {
          "output_type": "execute_result",
          "data": {
            "text/plain": [
              "<matplotlib.legend.Legend at 0x7f2a91a52210>"
            ]
          },
          "metadata": {},
          "execution_count": 47
        },
        {
          "output_type": "display_data",
          "data": {
            "text/plain": [
              "<Figure size 1080x720 with 4 Axes>"
            ],
            "image/png": "[encoded data removed]"
          },
          "metadata": {
            "needs_background": "light"
          }
        }
      ]
    },
    {
      "cell_type": "code",
      "source": [
        "def plot_misclassified(model, test_loader, norm_name):\n",
        "  count = 0\n",
        "  k = 0\n",
        "  misclf = list()\n",
        "  while count<=20:\n",
        "    img, label = test_loader.dataset[k]\n",
        "    pred = model(img.unsqueeze(0).to(device)) # Prediction\n",
        "    pred = pred.argmax().item()\n",
        "\n",
        "    k += 1\n",
        "    if pred!=label:\n",
        "      misclf.append((img, label, pred))\n",
        "      count += 1\n",
        "  \n",
        "  rows, cols = 5,4\n",
        "  figure = plt.figure(figsize=(10,14))\n",
        "\n",
        "  for i in range(1, cols * rows + 1):\n",
        "    img, label, pred = misclf[i-1]\n",
        "\n",
        "    figure.add_subplot(rows, cols, i) # adding sub plot\n",
        "    plt.suptitle(norm_name, fontsize=10)\n",
        "    plt.title(f\"Predcited label {pred}\\n True Label: {label}\") # title of plot\n",
        "    plt.axis(\"off\") # hiding the axis\n",
        "    plt.imshow(img.squeeze(), cmap=\"gray\") # showing the plot\n",
        "\n",
        "  plt.show()"
      ],
      "metadata": {
        "id": "qm2o-VVcqohC"
      },
      "execution_count": 48,
      "outputs": []
    },
    {
      "cell_type": "code",
      "source": [
        "plot_misclassified(model_1,test_loader,\"Layer Normalization\")"
      ],
      "metadata": {
        "colab": {
          "base_uri": "https://localhost:8080/",
          "height": 888
        },
        "id": "3sjLwzc4XbEA",
        "outputId": "ae7a68d9-5a73-4752-8d9b-51880092c250"
      },
      "execution_count": 49,
      "outputs": [
        {
          "output_type": "display_data",
          "data": {
            "text/plain": [
              "<Figure size 720x1008 with 20 Axes>"
            ],
            "image/png": "[encoded data removed]"
          },
          "metadata": {
            "needs_background": "light"
          }
        }
      ]
    },
    {
      "cell_type": "code",
      "source": [
        "plot_misclassified(model_2,test_loader,\"Batch Normalization + L1\")"
      ],
      "metadata": {
        "id": "OmL8045M4JC4",
        "outputId": "1b1c921f-32bf-4b4b-babc-3537bb60d4b2",
        "colab": {
          "base_uri": "https://localhost:8080/",
          "height": 888
        }
      },
      "execution_count": 50,
      "outputs": [
        {
          "output_type": "display_data",
          "data": {
            "text/plain": [
              "<Figure size 720x1008 with 20 Axes>"
            ],
            "image/png": "[encoded data removed]"
          },
          "metadata": {
            "needs_background": "light"
          }
        }
      ]
    },
    {
      "cell_type": "code",
      "source": [
        "plot_misclassified(model_3,test_loader,\"Group Normalization\")"
      ],
      "metadata": {
        "id": "YZFOeuvv4Jf8",
        "outputId": "e0591acc-9c07-44aa-b6e5-a22c166f2a29",
        "colab": {
          "base_uri": "https://localhost:8080/",
          "height": 888
        }
      },
      "execution_count": 51,
      "outputs": [
        {
          "output_type": "display_data",
          "data": {
            "text/plain": [
              "<Figure size 720x1008 with 20 Axes>"
            ],
            "image/png": "[encoded data removed]"
          },
          "metadata": {
            "needs_background": "light"
          }
        }
      ]
    }
  ]
}